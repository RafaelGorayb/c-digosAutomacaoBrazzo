{
 "cells": [
  {
   "cell_type": "markdown",
   "metadata": {},
   "source": [
    "**Filtragem de dados da planilha**"
   ]
  },
  {
   "cell_type": "markdown",
   "metadata": {},
   "source": [
    "IMPORTAR PLANILHA PRO PANDAS"
   ]
  },
  {
   "cell_type": "code",
   "execution_count": null,
   "metadata": {},
   "outputs": [],
   "source": [
    "import pandas as pd\n",
    "import re\n",
    "\n",
    "\n",
    "def extract_and_clean_year(row):\n",
    "    # Tentamos encontrar o padrão (XX/XX) ou XX/XX\n",
    "    match = re.search(r'(\\((\\d{2}/\\d{2})\\)|(\\d{2}/\\d{2}))', row['Modelo'])\n",
    "    if match:\n",
    "        # Verifica qual dos padrões foi encontrado e pega o valor correto\n",
    "        year = match.group(2) if match.group(2) else match.group(3)\n",
    "\n",
    "        # Limpa a string da coluna 'Modelo' removendo o padrão de ano\n",
    "        row['Modelo'] = row['Modelo'].replace(match.group(0), '').strip()\n",
    "        row['Ano'] = year\n",
    "    else:\n",
    "        row['Ano'] = '23/23'\n",
    "    return row\n",
    "\n",
    "\n",
    "# Carregar o arquivo Excel\n",
    "excel_file = pd.ExcelFile('D:/tabelaFiat1.xlsx')\n",
    "all_sheet_names = excel_file.sheet_names\n",
    "\n",
    "# Processar cada planilha e extrair os dados\n",
    "all_sheets_data = []\n",
    "for current_sheet_name in all_sheet_names[1:]:\n",
    "    current_sheet_data = pd.read_excel(excel_file, sheet_name=current_sheet_name, header=None)\n",
    "    sheet_rows_data = []\n",
    "\n",
    "    current_title = None  # Aqui guardaremos o título/modelo atual\n",
    "    for _, row in current_sheet_data.iterrows():\n",
    "        # Verifica se encontramos um novo título\n",
    "        if pd.notna(row[0]) and pd.isna(row[1]) and pd.isna(row[2]) and pd.isna(row[3]):\n",
    "            current_title = row[0]\n",
    "        # Caso contrário, verifica se as colunas 1, 2 e 3 têm dados (não são NA)\n",
    "        elif pd.notna(row[1]) and pd.notna(row[2]) and pd.notna(row[3]):\n",
    "            row_data = pd.DataFrame([[row[1], row[2], row[3], current_title]], columns=['Peça', 'Código', 'Preço', 'Modelo'])\n",
    "            sheet_rows_data.append(row_data)\n",
    "\n",
    "    all_sheets_data.append(pd.concat(sheet_rows_data))\n",
    "\n",
    "# Concatenar todos os dataframes\n",
    "df_excel = pd.concat(all_sheets_data)\n",
    "0\n",
    "# Limpar e formatar o dataframe\n",
    "df_excel['Preço'] = pd.to_numeric(df_excel['Preço'], errors='coerce')\n",
    "df_excel.dropna(subset=['Preço'], inplace=True)\n",
    "df_excel['Preço'] = df_excel['Preço'].round(2)\n",
    "df_excel['Modelo'] = df_excel['Modelo'].str.replace('PALIO ', '', regex=False)\n",
    "df_excel['Código'] = df_excel['Código'].astype(str)\n",
    "\n",
    "\n",
    "\n",
    "# Aplicamos a função ao dataframe\n",
    "df_excel = df_excel.apply(extract_and_clean_year, axis=1)\n",
    "\n",
    "# Dividindo a coluna 'Ano' e criando 'ANO_INI' e 'ANO_FIM'.\n",
    "df_excel[['ANO_INI', 'ANO_FIM']] = df_excel['Ano'].str.split('/', expand=True)\n",
    "\n",
    "# Adicionando \"20\" na frente dos valores de 'ANO_INI' e 'ANO_FIM'\n",
    "df_excel['ANO_INI'] = '20' + df_excel['ANO_INI']\n",
    "df_excel['ANO_FIM'] = '20' + df_excel['ANO_FIM']\n",
    "\n",
    "\n",
    "# Removendo a coluna 'Ano' original.\n",
    "df_excel.drop('Ano', axis=1, inplace=True)\n",
    "\n",
    "df_excel\n",
    "\n"
   ]
  },
  {
   "cell_type": "markdown",
   "metadata": {},
   "source": [
    "**Fazer conexao com o banco**"
   ]
  },
  {
   "cell_type": "code",
   "execution_count": null,
   "metadata": {},
   "outputs": [],
   "source": [
    "import pyodbc\n",
    "import pandas as pd\n",
    "\n",
    "# Substitua os seguintes valores pelas suas credenciais de banco de dados\n",
    "server = 'RAFAELPC' \n",
    "database = 'dbfacamp' \n",
    "driver = '{ODBC Driver 17 for SQL Server}'\n",
    "\n",
    "# String de conexão\n",
    "conn_string = f'DRIVER={driver};SERVER={server};DATABASE={database};Trusted_Connection=yes;'\n",
    "\n",
    "# Conecte ao banco de dados\n",
    "conn = pyodbc.connect(conn_string)\n",
    "\n",
    "# Crie um cursor a partir da conexão\n",
    "cursor = conn.cursor()"
   ]
  },
  {
   "cell_type": "markdown",
   "metadata": {},
   "source": [
    "Pegar dados dos produtos dos kits"
   ]
  },
  {
   "cell_type": "code",
   "execution_count": null,
   "metadata": {},
   "outputs": [],
   "source": [
    "# Consulta SQL que você deseja executar\n",
    "query = '''\n",
    "SELECT\n",
    "    t1.ID_KIT, t1.ID_PRODUTO, t1.VAL_UNITARIO,\n",
    "    t2.PADRAO_DESCRICAO, t2.ANO_INI, t2.ANO_FIM,\n",
    "    t3.DESCRICAO, t3.REFERENCIA\n",
    "FROM KITS_PROD t1\n",
    "JOIN KITS t2\n",
    "    ON t1.ID_KIT = t2.ID_KIT\n",
    "JOIN PRODUTOS t3\n",
    "    ON t1.ID_PRODUTO = t3.ID_PRODUTO\n",
    "'''\n",
    "\n",
    "# Execute a consulta e coloque os resultados em um DataFrame\n",
    "df_sql = pd.read_sql(query, conn)\n",
    "\n",
    "# Feche o cursor e a conexão\n",
    "\n",
    "\n",
    "# Exiba o DataFrame\n",
    "df_sql\n"
   ]
  },
  {
   "cell_type": "markdown",
   "metadata": {},
   "source": [
    "**Organizar os id's dos produtos com as referencias**"
   ]
  },
  {
   "cell_type": "code",
   "execution_count": null,
   "metadata": {},
   "outputs": [],
   "source": [
    "df_sql_filtered = df_sql[['ID_PRODUTO', 'REFERENCIA']].drop_duplicates()\n",
    "df_sql_filtered['REFERENCIA'] = df_sql_filtered['REFERENCIA'].astype(str)\n",
    "df_sql_filtered = df_sql_filtered.reset_index(drop= True)\n",
    "df_sql_filtered"
   ]
  },
  {
   "cell_type": "markdown",
   "metadata": {},
   "source": [
    "**Colocar o idproduto na tabela df_excel**"
   ]
  },
  {
   "cell_type": "code",
   "execution_count": null,
   "metadata": {},
   "outputs": [],
   "source": [
    "# Renomeando a coluna REFERENCIA para Código para fazer o merge\n",
    "df_sql_filtered_renamed = df_sql_filtered.rename(columns={'REFERENCIA': 'Código'})\n",
    "\n",
    "# Merge dos DataFrames com base na coluna 'Código'\n",
    "df_combined = pd.merge(df_excel, df_sql_filtered_renamed, on='Código', how='left')\n"
   ]
  },
  {
   "cell_type": "markdown",
   "metadata": {},
   "source": [
    "**COMBINAR AS TABELAS**"
   ]
  },
  {
   "cell_type": "code",
   "execution_count": null,
   "metadata": {},
   "outputs": [],
   "source": [
    "df_combined['ID_PRODUTO'] = df_combined['ID_PRODUTO'].astype(str).str.replace('.0', '', regex=False)\n",
    "df_combined = df_combined.dropna(subset=['ID_PRODUTO'])\n",
    "\n",
    "\n",
    "df_combined"
   ]
  },
  {
   "cell_type": "markdown",
   "metadata": {},
   "source": [
    "**Criar tabela temporaria no banco**"
   ]
  },
  {
   "cell_type": "code",
   "execution_count": null,
   "metadata": {},
   "outputs": [],
   "source": [
    "# Primeiro, crie uma tabela temporária para armazenar os dados do DataFrame\n",
    "cursor.execute('''\n",
    "    CREATE TABLE TempUpdateTable (\n",
    "        ID_PRODUTO INT,\n",
    "        REFERENCIA NVARCHAR(50),\n",
    "        MODELO NVARCHAR(50),\n",
    "        ANO_INI NVARCHAR(10),\n",
    "        ANO_FIM NVARCHAR(10),\n",
    "        NOVO_VAL_UNITARIO DECIMAL(10, 2)\n",
    "    )\n",
    "''')\n",
    "conn.commit()"
   ]
  },
  {
   "cell_type": "markdown",
   "metadata": {},
   "source": [
    "**INSERIR OS DADOS TEMPORARIOS**"
   ]
  },
  {
   "cell_type": "code",
   "execution_count": null,
   "metadata": {},
   "outputs": [],
   "source": [
    "\n",
    "# Agora, insira os dados do DataFrame na tabela temporária\n",
    "for index, row in df_combined.iterrows():\n",
    "    try:\n",
    "        cursor.execute('''\n",
    "            INSERT INTO TempUpdateTable (ID_PRODUTO, REFERENCIA, MODELO, ANO_INI, ANO_FIM, NOVO_VAL_UNITARIO)\n",
    "            VALUES (?, ?, ?, ?, ?, ?)\n",
    "        ''', row['ID_PRODUTO'], row['Código'], row['Modelo'], row['ANO_INI'],row['ANO_FIM'], row['Preço'])\n",
    "        conn.commit()\n",
    "    except pyodbc.DataError as e:\n",
    "        print(f\"Erro ao inserir dados: {row['ID_PRODUTO'], row['Código'], row['Modelo'], row['ANO_INI'],row['ANO_FIM'], row['Preço'], e}\")\n",
    "        # Se desejar, você pode fazer algo com a linha que causou o erro aqui\n",
    "        continue # Isso irá ignorar o erro atual e continuar com a próxima iteração\n",
    "\n"
   ]
  },
  {
   "cell_type": "markdown",
   "metadata": {},
   "source": [
    "**Atualizar a tabela principal e deletar a temporaria**"
   ]
  },
  {
   "cell_type": "code",
   "execution_count": null,
   "metadata": {},
   "outputs": [],
   "source": [
    "# Depois, atualize a tabela original usando um JOIN com a tabela temporária\n",
    "cursor.execute('''\n",
    "               \n",
    "UPDATE t1\n",
    "SET t1.VAL_UNITARIO = temp.NOVO_VAL_UNITARIO\n",
    "FROM KITS_PROD t1\n",
    "JOIN KITS t2 ON t1.ID_KIT = t2.ID_KIT\n",
    "JOIN TempUpdateTable temp ON t1.ID_PRODUTO = temp.ID_PRODUTO\n",
    "WHERE LOWER(t2.PADRAO_DESCRICAO) LIKE '%' + LOWER(temp.MODELO) + '%'\n",
    "  AND t2.ANO_INI >= temp.ANO_INI\n",
    "  AND t2.ANO_FIM <= temp.ANO_FIM;\n",
    "\n",
    "''')\n",
    "conn.commit()\n",
    "\n",
    "# Não esqueça de remover a tabela temporária após a atualização\n",
    "cursor.execute('DROP TABLE TempUpdateTable')\n",
    "conn.commit() \n",
    "# Fechar a conexão\n"
   ]
  }
 ],
 "metadata": {
  "kernelspec": {
   "display_name": "Python 3",
   "language": "python",
   "name": "python3"
  },
  "language_info": {
   "codemirror_mode": {
    "name": "ipython",
    "version": 3
   },
   "file_extension": ".py",
   "mimetype": "text/x-python",
   "name": "python",
   "nbconvert_exporter": "python",
   "pygments_lexer": "ipython3",
   "version": "3.12.0"
  }
 },
 "nbformat": 4,
 "nbformat_minor": 2
}
